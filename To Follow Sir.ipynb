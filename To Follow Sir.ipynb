{
 "cells": [
  {
   "cell_type": "code",
   "execution_count": 13,
   "metadata": {},
   "outputs": [
    {
     "ename": "SyntaxError",
     "evalue": "invalid syntax (<ipython-input-13-aeaa6f4da359>, line 45)",
     "output_type": "error",
     "traceback": [
      "\u001b[1;36m  File \u001b[1;32m\"<ipython-input-13-aeaa6f4da359>\"\u001b[1;36m, line \u001b[1;32m45\u001b[0m\n\u001b[1;33m    days += numberofdaysmonth(month,start):\u001b[0m\n\u001b[1;37m                                          ^\u001b[0m\n\u001b[1;31mSyntaxError\u001b[0m\u001b[1;31m:\u001b[0m invalid syntax\n"
     ]
    }
   ],
   "source": [
    "# Function to calculate number of hours in the given period of time\n",
    "# numberofhours(11,1975,3,1999) --> 204504 or 205248\n",
    "# numberofhours(5,2019,6,2019) --> 1464\n",
    "# 2, 20, 6, 2019\n",
    "#  [all days from feb 2016 to dec 2016,\n",
    "#.   all days for years between start 2016 and 2019,\n",
    "#      all days from Jan to June 2019]\n",
    "#number of hours =24 * no of days\n",
    "# 3 steps\n",
    "    #1. start month year to end of year - calculate no of \n",
    "    #2. Calculate days for all years between start year and end year exclusive\n",
    "          # 2017, 2018 - 365 * no of years\n",
    "    #3. Calculate days from, Jan to end month year\n",
    "    \n",
    "# Excluding Feb\n",
    "# First Six months  - 1, 3, 4, 5, 6, 7\n",
    "                     # All odd months have 31 days\n",
    "                     # All even months have 30 days\n",
    "# Last six months   -  8, 9, 10, 11, 12\n",
    "                     # All even months have 31 days\n",
    "                     # All odd months have 30 days\n",
    "        \n",
    "# 31 days - (month <= 7 and month % 2!=0 and month !=2) // (month)\n",
    "                 #return 31\n",
    "#                 else\n",
    "#                    return 30\n",
    "\n",
    "\n",
    "\n",
    "def numberofdaysmonth(month,year):\n",
    "    if month == 2:\n",
    "        if isleapyear(year):\n",
    "            return 29\n",
    "        return 28\n",
    "    elif(month<=7 and month % 2!=0) or ( month != 2):\n",
    "        return 31\n",
    "    else:\n",
    "        return 30\n",
    "    \n",
    "numberofdaysmonth(4,2019)\n",
    "\n",
    "def daysinstartyear(startmonth,startyear):\n",
    "    days=0\n",
    "    for month in range(startmonth,13):\n",
    "        days += numberofdaysmonth(month,start):\n",
    "    return days\n",
    "\n",
    "def daysinendyear( endmonth,endyear):\n",
    "    days = 0\n",
    "    for month in range(1,endmonth+1):\n",
    "        days +=numberofdaysmonth(month, endyear)\n",
    "    return days\n",
    "\n",
    "daysinendyear(6,2019)\n",
    "\n",
    "def numberofhours(startmonth,startyear,endyear+1):\n",
    "    days =0\n",
    "    days += daysinstartyear(startmonth, startyear)\n",
    "    days += daysinendyear(endmonth, endyear)\n",
    "    if endyear - startyear ==1:\n",
    "        days += numberofdays(startyear+1,startyear+1)\n",
    "    elif endyear - startyear > 2:\n",
    "        days += numberofdays(startyear+1,endyear-1)\n",
    "\n",
    "\n",
    "        \n",
    "        \n"
   ]
  },
  {
   "cell_type": "code",
   "execution_count": null,
   "metadata": {},
   "outputs": [],
   "source": []
  }
 ],
 "metadata": {
  "kernelspec": {
   "display_name": "Python 3",
   "language": "python",
   "name": "python3"
  },
  "language_info": {
   "codemirror_mode": {
    "name": "ipython",
    "version": 3
   },
   "file_extension": ".py",
   "mimetype": "text/x-python",
   "name": "python",
   "nbconvert_exporter": "python",
   "pygments_lexer": "ipython3",
   "version": "3.7.3"
  }
 },
 "nbformat": 4,
 "nbformat_minor": 2
}
