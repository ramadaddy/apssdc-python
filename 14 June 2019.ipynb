{
 "cells": [
  {
   "cell_type": "code",
   "execution_count": null,
   "metadata": {},
   "outputs": [],
   "source": []
  },
  {
   "cell_type": "markdown",
   "metadata": {},
   "source": [
    "# Python Data Structures\n",
    "\n",
    "## Lists"
   ]
  },
  {
   "cell_type": "code",
   "execution_count": 64,
   "metadata": {},
   "outputs": [
    {
     "ename": "IndentationError",
     "evalue": "expected an indented block (<ipython-input-64-98e90a99fbec>, line 40)",
     "output_type": "error",
     "traceback": [
      "\u001b[1;36m  File \u001b[1;32m\"<ipython-input-64-98e90a99fbec>\"\u001b[1;36m, line \u001b[1;32m40\u001b[0m\n\u001b[1;33m    li.index(1000)\u001b[0m\n\u001b[1;37m     ^\u001b[0m\n\u001b[1;31mIndentationError\u001b[0m\u001b[1;31m:\u001b[0m expected an indented block\n"
     ]
    }
   ],
   "source": [
    "li = [123,978,654]\n",
    "\n",
    "li # Access the entire list\n",
    "li[1] # Access an element with index in a list\n",
    "li[1:] # Access all elements from second to last\n",
    "li = li[::-1] # reversing list elements and reassigning to\n",
    "li\n",
    "li[::2] # Accessing even index elements\n",
    "li[1::2]\n",
    "\n",
    "# Lists can be accessed , maipulated in two different ways\n",
    "    # Direct Referencing - [index]\n",
    "    # Indirect Referencing - [through functions]\n",
    "    \n",
    "# Adding an element to end of the list\n",
    "\n",
    "li.append(345) # Adding an element to end of the list \n",
    "li.insert(1,234) # Adding an element at a particular place\n",
    "li.sort() # Sort elements in ascending order\n",
    "\n",
    "li.pop() # Remove the last element in a list\n",
    "\n",
    "li.pop(1)# Remove an element at a particular index\n",
    "li2=[234,456,749]\n",
    "\n",
    "li.extend(li2) # merge list 2 into list 1\n",
    "sum(li) # Sum of all elements in a list\n",
    "max(li) # maximum element in a lists\n",
    "len(li) # number of elements in a list\n",
    "\n",
    "sum(li)/len(li) # Average of list element\n",
    "\n",
    "sum(li[::2])/len(li[1::2]) # Average of all alteranate elements\n",
    "\n",
    "min(li)\n",
    "li\n",
    "\n",
    "max(li)-1\n",
    "try:\n",
    "li.index(1000)\n",
    "except:\n",
    "    print(-1)\n",
    "\n",
    "\n",
    "\n",
    "                 \n"
   ]
  },
  {
   "cell_type": "code",
   "execution_count": 65,
   "metadata": {},
   "outputs": [
    {
     "ename": "TypeError",
     "evalue": "'NoneType' object is not subscriptable",
     "output_type": "error",
     "traceback": [
      "\u001b[1;31m---------------------------------------------------------------------------\u001b[0m",
      "\u001b[1;31mTypeError\u001b[0m                                 Traceback (most recent call last)",
      "\u001b[1;32m<ipython-input-65-e89ee5f4c085>\u001b[0m in \u001b[0;36m<module>\u001b[1;34m\u001b[0m\n\u001b[0;32m     13\u001b[0m     \u001b[1;32mreturn\u001b[0m \u001b[0mli\u001b[0m\u001b[1;33m[\u001b[0m\u001b[1;33m-\u001b[0m\u001b[0mn\u001b[0m\u001b[1;33m]\u001b[0m\u001b[1;33m\u001b[0m\u001b[1;33m\u001b[0m\u001b[0m\n\u001b[0;32m     14\u001b[0m \u001b[1;33m\u001b[0m\u001b[0m\n\u001b[1;32m---> 15\u001b[1;33m \u001b[0msecondLargest\u001b[0m\u001b[1;33m(\u001b[0m\u001b[0mli\u001b[0m\u001b[1;33m)\u001b[0m\u001b[1;33m\u001b[0m\u001b[1;33m\u001b[0m\u001b[0m\n\u001b[0m\u001b[0;32m     16\u001b[0m \u001b[0mgenericLargest\u001b[0m\u001b[1;33m(\u001b[0m\u001b[0mli\u001b[0m\u001b[1;33m,\u001b[0m\u001b[1;36m5\u001b[0m\u001b[1;33m)\u001b[0m\u001b[1;33m\u001b[0m\u001b[1;33m\u001b[0m\u001b[0m\n",
      "\u001b[1;32m<ipython-input-65-e89ee5f4c085>\u001b[0m in \u001b[0;36msecondLargest\u001b[1;34m(li)\u001b[0m\n\u001b[0;32m      5\u001b[0m \u001b[1;33m\u001b[0m\u001b[0m\n\u001b[0;32m      6\u001b[0m \u001b[1;32mdef\u001b[0m \u001b[0msecondLargest\u001b[0m\u001b[1;33m(\u001b[0m\u001b[0mli\u001b[0m\u001b[1;33m)\u001b[0m\u001b[1;33m:\u001b[0m\u001b[1;33m\u001b[0m\u001b[1;33m\u001b[0m\u001b[0m\n\u001b[1;32m----> 7\u001b[1;33m     \u001b[0mli\u001b[0m\u001b[1;33m.\u001b[0m\u001b[0msort\u001b[0m\u001b[1;33m(\u001b[0m\u001b[1;33m)\u001b[0m\u001b[1;33m[\u001b[0m\u001b[1;33m-\u001b[0m\u001b[1;36m2\u001b[0m\u001b[1;33m]\u001b[0m\u001b[1;33m\u001b[0m\u001b[1;33m\u001b[0m\u001b[0m\n\u001b[0m\u001b[0;32m      8\u001b[0m     \u001b[1;32mreturn\u001b[0m \u001b[0mli\u001b[0m\u001b[1;33m[\u001b[0m\u001b[1;33m-\u001b[0m\u001b[1;36m2\u001b[0m\u001b[1;33m]\u001b[0m\u001b[1;33m\u001b[0m\u001b[1;33m\u001b[0m\u001b[0m\n\u001b[0;32m      9\u001b[0m \u001b[1;33m\u001b[0m\u001b[0m\n",
      "\u001b[1;31mTypeError\u001b[0m: 'NoneType' object is not subscriptable"
     ]
    }
   ],
   "source": [
    "# Functions to identufy the second largest element in the list\n",
    "    # Sort the data and select the second last element\n",
    "    # Sort the data in reverse order, amnd select the second element\n",
    "    # Remove the max element and get the max of the list\n",
    "\n",
    "def secondLargest(li):\n",
    "    li.sort()[-2]\n",
    "    return li[-2]\n",
    "  \n",
    "# Function that return the nth largest \n",
    "def genericLargest(li,n):\n",
    "    li.sort()\n",
    "    return li[-n]\n",
    "\n",
    "secondLargest(li)\n",
    "genericLargest(li,5)\n"
   ]
  },
  {
   "cell_type": "code",
   "execution_count": 68,
   "metadata": {},
   "outputs": [
    {
     "ename": "NameError",
     "evalue": "name 'linearsearch2' is not defined",
     "output_type": "error",
     "traceback": [
      "\u001b[1;31m---------------------------------------------------------------------------\u001b[0m",
      "\u001b[1;31mNameError\u001b[0m                                 Traceback (most recent call last)",
      "\u001b[1;32m<ipython-input-68-48f37bb7d7e3>\u001b[0m in \u001b[0;36m<module>\u001b[1;34m\u001b[0m\n\u001b[0;32m     18\u001b[0m \u001b[1;33m\u001b[0m\u001b[0m\n\u001b[0;32m     19\u001b[0m \u001b[1;33m\u001b[0m\u001b[0m\n\u001b[1;32m---> 20\u001b[1;33m \u001b[0mlinearsearch2\u001b[0m\u001b[1;33m(\u001b[0m\u001b[0mli\u001b[0m\u001b[1;33m,\u001b[0m \u001b[1;36m234\u001b[0m\u001b[1;33m)\u001b[0m\u001b[1;33m\u001b[0m\u001b[1;33m\u001b[0m\u001b[0m\n\u001b[0m",
      "\u001b[1;31mNameError\u001b[0m: name 'linearsearch2' is not defined"
     ]
    }
   ],
   "source": [
    "# Function to search for data in a list\n",
    "# Search for the key in the list and return the index of the key. Return -1 if key not found\n",
    "\n",
    "def linearSearch(li,key):\n",
    "    for index in range (0, len(li)):\n",
    "        if li[index] == key:\n",
    "            return index\n",
    "    return -1\n",
    "\n",
    "def linersearch2(li,key):\n",
    "    for element in li:\n",
    "        if element == key:\n",
    "            return li.index(element)\n",
    "    return -1\n",
    "\n",
    "def linearsearch3(li,key):\n",
    "    if key in li:\n",
    "        return li.index(key)\n",
    "    return -1\n",
    "    \n",
    "\n",
    "\n",
    "linearsearch2(li, 234) "
   ]
  },
  {
   "cell_type": "code",
   "execution_count": 69,
   "metadata": {},
   "outputs": [
    {
     "data": {
      "text/plain": [
       "1"
      ]
     },
     "execution_count": 69,
     "metadata": {},
     "output_type": "execute_result"
    }
   ],
   "source": [
    "# Function to count the occurances of a character in \n",
    "# \"Python programming\", m -> 2\n",
    "\n",
    "def countcharoccurances(s,c):\n",
    "    count = 0\n",
    "    for ch in s:\n",
    "        if ch == c:\n",
    "            count += 1\n",
    "    return count\n",
    "def countcharoccurances2(s, c):\n",
    "    return s. count(c)\n",
    "countcharoccurances2(\"python programming\", 'py')"
   ]
  },
  {
   "cell_type": "code",
   "execution_count": null,
   "metadata": {},
   "outputs": [],
   "source": []
  }
 ],
 "metadata": {
  "kernelspec": {
   "display_name": "Python 3",
   "language": "python",
   "name": "python3"
  },
  "language_info": {
   "codemirror_mode": {
    "name": "ipython",
    "version": 3
   },
   "file_extension": ".py",
   "mimetype": "text/x-python",
   "name": "python",
   "nbconvert_exporter": "python",
   "pygments_lexer": "ipython3",
   "version": "3.7.3"
  }
 },
 "nbformat": 4,
 "nbformat_minor": 2
}
