{
 "cells": [
  {
   "cell_type": "code",
   "execution_count": null,
   "metadata": {},
   "outputs": [],
   "source": []
  },
  {
   "cell_type": "code",
   "execution_count": null,
   "metadata": {},
   "outputs": [],
   "source": []
  },
  {
   "cell_type": "markdown",
   "metadata": {},
   "source": [
    "# ### Date 20th June 2019\n",
    " \n",
    "###  DAY OBJECTIVES\n",
    "\n",
    "#### Regular Expressions\n",
    "     - Constructing regular expressions for various use cases\n",
    "     - Regular expressions module and related in python\n",
    "     - Improving the contacts application with name and phone number\n",
    "####   File Handling\n",
    "      - Text Files\n",
    "      - Upgrading the contacts application to store contact information in a text file\n",
    "#### Regular Expressions\n",
    "      - Pattern Matching\n",
    "      - Symbolic Notation of a pattern\n",
    "             - Pattern : Format which repeats(Particular way or particular format)\n",
    "             - Pattern(RE) represents The set of all values matches that pattern\n",
    "       - [0-9] -> Any digit\n",
    "       - [a-z] -> Any lower case alphabet\n",
    "       - [2468]-> All single digit multiples of 2\n",
    "       - [6428] ->order is not important : All single digit multiples of 2\n",
    "       - [2864] ->order is not important :All single digit multiples of 2\n",
    "\n",
    "       - ^[0-9]{1}$ -> highlights single digits only\n",
    "\n",
    "       - ^[0-9]{3} -> highlights only first 3 characters\n",
    "\n",
    "       - [0-9]{3}$ ->highlights only last 3 characters\n",
    "\n",
    "       - [0-9]*0$ ->all multiples of 10\n",
    "\n",
    "       - ^[1-9][0-9]*0$ -> All multiples of 10\n",
    "\n",
    "       - ^([1-9][0-9]*[05])$|^([5])$ ->All multiples of 5\n",
    "\n",
    "       - ^[1-9][0-9]{9}$ ->All 10 digit number\n",
    "       \n",
    "       - ^[6-9][0-9]{9}$|^[0][6-9][0-9]{9}$|^[+][6-9][0-9]{9}$ -  \n",
    "       \n",
    "       > Validating phone number(india)(start with 9879 followed by 9)\n",
    "\n",
    "    - ^[0-9a-z][0-9a-z_.]{4,13}[0-9a-z][@][0-9a-z]{3,18}[.][a-z]{2,4}$\n",
    "    \n",
    "    -> Email Validation(username@domain.extension)\n",
    "    \n",
    "     - Username\n",
    "               - length of username:[6,15]\n",
    "               - No special characters other than _.\n",
    "               -  should not begin and with -.\n",
    "               - character set:all digits and alphabet\n",
    "    - domain\n",
    "                - length of domain:[3,18]\n",
    "                - no special characters\n",
    "                - character set:all digits and alphabet\n",
    "    - extension\n",
    "               - length of extension:[2,4]\n",
    "               - no speciaal characters\n",
    "               - character set:only lowercase alphaabet\n",
    "\n",
    "    [w][o][r][d] or word* or (word) ->searching for a word5 that starts        with'a'\n",
    "      Any string of length 5 that starts with'a' and ends with 'z'\n",
    "\n",
    "     ^[a]...[z]$\n",
    "\n",
    "     ^[a].*[z]$ -> any string of any length starts with \"a\" and ends with \"z\""
   ]
  },
  {
   "cell_type": "code",
   "execution_count": null,
   "metadata": {},
   "outputs": [],
   "source": []
  },
  {
   "cell_type": "code",
   "execution_count": 4,
   "metadata": {},
   "outputs": [
    {
     "data": {
      "text/plain": [
       "True"
      ]
     },
     "execution_count": 4,
     "metadata": {},
     "output_type": "execute_result"
    }
   ],
   "source": [
    "# Function to validate a phone number\n",
    "\n",
    "import re\n",
    "def phoneNumberValidator(number):\n",
    "    pattern='^[6-9][0-9]{9}$|^[0][6-9][0-9]{9}$|^[+][6-9][0-9]{9}$'\n",
    "    if re.match(pattern,str(number)):\n",
    "        return True\n",
    "    return False\n",
    "phoneNumberValidator(9908699451)\n",
    "def emailValidator(email):\n",
    "    pattern='^[0-9a-z][0-9a-z_.]{4,13}[0-9a-z][@][0-9a-z]{3,18}[.][a-z]{2,4}$'\n",
    "    if re.match(pattern,email):\n",
    "        return True\n",
    "    return False\n",
    "emailValidator(\"re_12345@gmail.com\")"
   ]
  },
  {
   "cell_type": "code",
   "execution_count": 3,
   "metadata": {},
   "outputs": [
    {
     "data": {
      "text/plain": [
       "True"
      ]
     },
     "execution_count": 3,
     "metadata": {},
     "output_type": "execute_result"
    }
   ],
   "source": [
    "# Function to validate a  Phonenumber\n",
    "\n",
    "import re\n",
    "def phonenumbervalidator(number):\n",
    "    pattern = '^[6-9][0-9]{9}$|^[0][6-9][0-9]{9}$'\n",
    "    if re.match(pattern,str(number)):\n",
    "        return True\n",
    "    return False\n",
    "phonenumbervalidator(9999999999)\n",
    "def emailvalidator(email):\n",
    "    pattern = '^[0-9a-z][0-9a-z_.]{4,13}[0-9a-z][@][0-9a-z]{3,18}[.][a-z]{2,4}$'\n",
    "    if re.match(pattern, str(email)):\n",
    "        return True\n",
    "    return False\n",
    "emailvalidator(\"ramaa33@gmail.com\")\n"
   ]
  },
  {
   "cell_type": "code",
   "execution_count": 21,
   "metadata": {},
   "outputs": [],
   "source": []
  },
  {
   "cell_type": "code",
   "execution_count": 7,
   "metadata": {},
   "outputs": [
    {
     "ename": "SyntaxError",
     "evalue": "invalid syntax (<ipython-input-7-eef94ddd6eac>, line 3)",
     "output_type": "error",
     "traceback": [
      "\u001b[1;36m  File \u001b[1;32m\"<ipython-input-7-eef94ddd6eac>\"\u001b[1;36m, line \u001b[1;32m3\u001b[0m\n\u001b[1;33m    File - Document containing some information residing on the permenent storage\u001b[0m\n\u001b[1;37m                             ^\u001b[0m\n\u001b[1;31mSyntaxError\u001b[0m\u001b[1;31m:\u001b[0m invalid syntax\n"
     ]
    }
   ],
   "source": [
    "### File Handling in Python\n",
    "\n",
    "File - Document containing some information residing on the permenent storage\n",
    "Types - Text, PDF, CSV ,(programming files  :  Image files, html files), etc\n",
    "\n",
    "File I/O - Channeling I/O data to files\n",
    "Default I/O channels - keyboard/Screen\n",
    "\n",
    "Change I/O channel to files for Reading and writing \n",
    "\n",
    "Read a file - input from file\n",
    "Write to a file - output to a  file\n",
    "\n",
    "Read/write a file - open(filename, mode)\n",
    "\n"
   ]
  },
  {
   "cell_type": "code",
   "execution_count": 4,
   "metadata": {},
   "outputs": [
    {
     "ename": "IndentationError",
     "evalue": "unexpected indent (<ipython-input-4-baed1902b7a3>, line 12)",
     "output_type": "error",
     "traceback": [
      "\u001b[1;36m  File \u001b[1;32m\"<ipython-input-4-baed1902b7a3>\"\u001b[1;36m, line \u001b[1;32m12\u001b[0m\n\u001b[1;33m    print(line)\u001b[0m\n\u001b[1;37m    ^\u001b[0m\n\u001b[1;31mIndentationError\u001b[0m\u001b[1;31m:\u001b[0m unexpected indent\n"
     ]
    }
   ],
   "source": [
    "# Function to read a file\n",
    "\n",
    "def readfile(filename):\n",
    "    f = open(filename, 'r')\n",
    "    filedata = f.read()\n",
    "    f.close()\n",
    "    return filedata\n",
    "\n",
    "filename = 'DataFiles/data.txt'\n",
    "filedata = read(filename)\n",
    "readfile(filename).split('\\n')\n",
    "    print(line)\n",
    "    \n",
    "    \n",
    "def printfiledatalines(filename):\n",
    "    f = open(filename, 'r')\n",
    "    for linr in f:\n",
    "        print(line)\n",
    "        return\n",
    "    \n",
    "pint filedatalines(filename)\n",
    "        \n"
   ]
  },
  {
   "cell_type": "code",
   "execution_count": 6,
   "metadata": {},
   "outputs": [
    {
     "ename": "NameError",
     "evalue": "name 'writeintofile' is not defined",
     "output_type": "error",
     "traceback": [
      "\u001b[1;31m---------------------------------------------------------------------------\u001b[0m",
      "\u001b[1;31mNameError\u001b[0m                                 Traceback (most recent call last)",
      "\u001b[1;32m<ipython-input-6-7c72dcdba95a>\u001b[0m in \u001b[0;36m<module>\u001b[1;34m\u001b[0m\n\u001b[0;32m      6\u001b[0m \u001b[0mfilename\u001b[0m \u001b[1;33m=\u001b[0m \u001b[1;34m'datafiles/data.txt'\u001b[0m\u001b[1;33m\u001b[0m\u001b[1;33m\u001b[0m\u001b[0m\n\u001b[0;32m      7\u001b[0m \u001b[1;33m\u001b[0m\u001b[0m\n\u001b[1;32m----> 8\u001b[1;33m \u001b[0mwriteintofile\u001b[0m\u001b[1;33m(\u001b[0m\u001b[0mfilename\u001b[0m\u001b[1;33m,\u001b[0m \u001b[1;34m\"new data\"\u001b[0m\u001b[1;33m)\u001b[0m\u001b[1;33m\u001b[0m\u001b[1;33m\u001b[0m\u001b[0m\n\u001b[0m",
      "\u001b[1;31mNameError\u001b[0m: name 'writeintofile' is not defined"
     ]
    }
   ],
   "source": [
    "def writeinfile(filename, filedata):\n",
    "    with open(filename, 'w') as f:\n",
    "        f.write(filedata)\n",
    "    return\n",
    "\n",
    "filename = 'datafiles/data.txt'\n",
    "\n",
    "writeintofile(filename, \"new data\")"
   ]
  },
  {
   "cell_type": "code",
   "execution_count": 43,
   "metadata": {},
   "outputs": [
    {
     "ename": "NameError",
     "evalue": "name 'filename' is not defined",
     "output_type": "error",
     "traceback": [
      "\u001b[1;31m---------------------------------------------------------------------------\u001b[0m",
      "\u001b[1;31mNameError\u001b[0m                                 Traceback (most recent call last)",
      "\u001b[1;32m<ipython-input-43-c43f3b977450>\u001b[0m in \u001b[0;36m<module>\u001b[1;34m\u001b[0m\n\u001b[0;32m      7\u001b[0m \u001b[1;33m\u001b[0m\u001b[0m\n\u001b[0;32m      8\u001b[0m \u001b[0mfiledata\u001b[0m \u001b[1;33m=\u001b[0m \u001b[1;34m\"Data Files/data.txt\"\u001b[0m\u001b[1;33m\u001b[0m\u001b[1;33m\u001b[0m\u001b[0m\n\u001b[1;32m----> 9\u001b[1;33m \u001b[0mappenddatatofile\u001b[0m\u001b[1;33m(\u001b[0m\u001b[0mfilename\u001b[0m\u001b[1;33m,\u001b[0m\u001b[0mfiledata\u001b[0m\u001b[1;33m)\u001b[0m\u001b[1;33m\u001b[0m\u001b[1;33m\u001b[0m\u001b[0m\n\u001b[0m",
      "\u001b[1;31mNameError\u001b[0m: name 'filename' is not defined"
     ]
    }
   ],
   "source": [
    "# Function to append data to a file\n",
    "\n",
    "def appendtofile(filename, filedata):\n",
    "    with open(fiename, \"a\") as f:\n",
    "        f.write(filedata)\n",
    "    return\n",
    "\n",
    "filedata = \"Data Files/data.txt\"\n",
    "appenddatatofile(filename,filedata)"
   ]
  },
  {
   "cell_type": "code",
   "execution_count": 32,
   "metadata": {},
   "outputs": [
    {
     "ename": "SyntaxError",
     "evalue": "invalid token (<ipython-input-32-13085d47ebff>, line 3)",
     "output_type": "error",
     "traceback": [
      "\u001b[1;36m  File \u001b[1;32m\"<ipython-input-32-13085d47ebff>\"\u001b[1;36m, line \u001b[1;32m3\u001b[0m\n\u001b[1;33m    x(0234567)\u001b[0m\n\u001b[1;37m            ^\u001b[0m\n\u001b[1;31mSyntaxError\u001b[0m\u001b[1;31m:\u001b[0m invalid token\n"
     ]
    }
   ],
   "source": [
    "def x (x):\n",
    "    print(x)\n",
    "x(0234567)"
   ]
  },
  {
   "cell_type": "code",
   "execution_count": null,
   "metadata": {},
   "outputs": [],
   "source": []
  }
 ],
 "metadata": {
  "kernelspec": {
   "display_name": "Python 3",
   "language": "python",
   "name": "python3"
  },
  "language_info": {
   "codemirror_mode": {
    "name": "ipython",
    "version": 3
   },
   "file_extension": ".py",
   "mimetype": "text/x-python",
   "name": "python",
   "nbconvert_exporter": "python",
   "pygments_lexer": "ipython3",
   "version": "3.7.3"
  }
 },
 "nbformat": 4,
 "nbformat_minor": 2
}
