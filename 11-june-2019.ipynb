{
 "cells": [
  {
   "cell_type": "code",
   "execution_count": 6,
   "metadata": {},
   "outputs": [
    {
     "name": "stdout",
     "output_type": "stream",
     "text": [
      "Hello world !\n"
     ]
    }
   ],
   "source": [
    "print(\"Hello\",\"world !\")"
   ]
  },
  {
   "cell_type": "code",
   "execution_count": 7,
   "metadata": {},
   "outputs": [
    {
     "name": "stdout",
     "output_type": "stream",
     "text": [
      "a = 5\n",
      "a =  high five\n"
     ]
    }
   ],
   "source": [
    "a=5\n",
    "print(\"a =\", a)\n",
    "a=\"high five\"\n",
    "print(\"a = \", a)"
   ]
  },
  {
   "cell_type": "code",
   "execution_count": 11,
   "metadata": {},
   "outputs": [
    {
     "name": "stdout",
     "output_type": "stream",
     "text": [
      "5\n",
      "1.0\n"
     ]
    }
   ],
   "source": [
    "x=4\n",
    "x += 1\n",
    "print(x)\n",
    "\n",
    "x /= 5\n",
    "print(x)"
   ]
  },
  {
   "cell_type": "code",
   "execution_count": 37,
   "metadata": {},
   "outputs": [
    {
     "name": "stdout",
     "output_type": "stream",
     "text": [
      "7 5 10 5.0 25.0 "
     ]
    }
   ],
   "source": [
    "\n",
    "a=5\n",
    "b=2\n",
    "a+=b\n",
    "print(a,end = \" \")\n",
    "a-=b\n",
    "print(a,end = \" \")\n",
    "a*=b\n",
    "print(a,end = \" \")\n",
    "a/=b\n",
    "print(a, end = \" \")\n",
    "a**=b\n",
    "print(a, end= \" \")"
   ]
  },
  {
   "cell_type": "code",
   "execution_count": 66,
   "metadata": {},
   "outputs": [
    {
     "name": "stdout",
     "output_type": "stream",
     "text": [
      "english\n",
      " hiiii \n"
     ]
    }
   ],
   "source": [
    "lan = [\"telugu\", \"french\",\"english\"]\n",
    "\n",
    "\n",
    "print(lan[2])\n",
    "del(lan)\n",
    "k = \"\"\" hiiii \"\"\"\n",
    "print(k)"
   ]
  },
  {
   "cell_type": "code",
   "execution_count": 69,
   "metadata": {},
   "outputs": [
    {
     "name": "stdout",
     "output_type": "stream",
     "text": [
      "ramakav\n",
      "ramaramaramaramaramaramaramarama\n"
     ]
    }
   ],
   "source": [
    "str1 = \"rama\"\n",
    "str2 = \"kav\"\n",
    "print(str1 + str2)\n",
    "print(str1 *8)\n"
   ]
  },
  {
   "cell_type": "markdown",
   "metadata": {},
   "source": []
  },
  {
   "cell_type": "code",
   "execution_count": 8,
   "metadata": {},
   "outputs": [
    {
     "name": "stdout",
     "output_type": "stream",
     "text": [
      "{1, 2, 3, 4, 5, 6}\n",
      "{1, 2, 4, 5, 6}\n",
      "{1, 2, 4, 5, 6, 7, 8, 9}\n"
     ]
    }
   ],
   "source": [
    "d = {1,2,3,4,5}\n",
    "d.add(6)\n",
    "print(d)\n",
    "d.remove(3)\n",
    "print(d)\n",
    "d.update([7,8,9])\n",
    "print(d)\n"
   ]
  },
  {
   "cell_type": "code",
   "execution_count": 17,
   "metadata": {},
   "outputs": [
    {
     "name": "stdout",
     "output_type": "stream",
     "text": [
      "{1, 2, 3, 4, 5, 6, 7, 8, 9}\n",
      "{2, 3}\n",
      "{8, 1, 4, 9}\n",
      "{1, 4, 5, 6, 7, 8, 9}\n"
     ]
    }
   ],
   "source": [
    "a = {1,2,3,4,8,9}\n",
    "b = {2,3,5,6,7}\n",
    "\n",
    "print(a|b) # add two sets\n",
    "print(a&b) # common elements\n",
    "\n",
    "print(a-b) # presented a without in b\n",
    "\n",
    "print(a^b) #uncommom elements\n",
    "\n"
   ]
  },
  {
   "cell_type": "code",
   "execution_count": 105,
   "metadata": {},
   "outputs": [],
   "source": [
    "### Function to print the alternate values in a range [500,550]  in the same line\n",
    "### [500,550] -> 500 502 504 .......... 550\n",
    "### (500,550) -> 501 503 505 .......... 549\n",
    "### range (500,550) -> 500 501 502 ..... 549\n",
    "### All set based functions in python have start value inclusive and last value is exclusive\n",
    "\n",
    "def alternatevalues(start,end):\n",
    "    for value in range(start,end,-1):\n",
    "        print (value,end=\" \")\n",
    "    return\n",
    "\n",
    "alternatevalues(500,525)\n"
   ]
  },
  {
   "cell_type": "code",
   "execution_count": 106,
   "metadata": {},
   "outputs": [
    {
     "name": "stdout",
     "output_type": "stream",
     "text": [
      "10 9 8 7 6 5 4 3 2 1 "
     ]
    }
   ],
   "source": [
    "# Function to print reverse of given range in the same line\n",
    "\n",
    "def reverserange(start,end):\n",
    "    for value in range (end,start-1,-1):\n",
    "        print (value,end=\" \")\n",
    "    return\n",
    "    \n",
    "reverserange(1,10)"
   ]
  },
  {
   "cell_type": "code",
   "execution_count": null,
   "metadata": {},
   "outputs": [],
   "source": [
    "# Function to print the odd numbers in reverse of  given range in the same line\n",
    "\n",
    "def reverseoddnumbers(start,end):\n",
    "    for vlues in range(end,end-1,1):\n",
    "        print (value,end=\" \")\n",
    "    return\n",
    "    \n",
    "        "
   ]
  },
  {
   "cell_type": "code",
   "execution_count": 25,
   "metadata": {},
   "outputs": [
    {
     "name": "stdout",
     "output_type": "stream",
     "text": [
      "210\n"
     ]
    }
   ],
   "source": [
    "#Function to calculate the sum of numbers in a range\n",
    "\n",
    "def sumofnumbers(start,end):\n",
    "    s = 0\n",
    "    for value in range(start,end+1,1):\n",
    "        s = s + value\n",
    "    print(s)\n",
    "    return\n",
    "\n",
    "sumofnumbers(1,20)"
   ]
  },
  {
   "cell_type": "code",
   "execution_count": 45,
   "metadata": {},
   "outputs": [
    {
     "name": "stdout",
     "output_type": "stream",
     "text": [
      "5\n",
      "3\n",
      "1\n"
     ]
    }
   ],
   "source": [
    "#Function to print the odd numbers in reverse order in a range\n",
    "\n",
    "def reverseodd(start,end):\n",
    "    for i in range(end,start-1,-1):\n",
    "        if i % 2 != 0:\n",
    "            print(i)\n",
    "    return\n",
    "\n",
    "reverseodd(1,5)\n"
   ]
  },
  {
   "cell_type": "code",
   "execution_count": 4,
   "metadata": {},
   "outputs": [
    {
     "name": "stdout",
     "output_type": "stream",
     "text": [
      "15150\n",
      "15150\n",
      "15150\n"
     ]
    }
   ],
   "source": [
    "#Function to calculate the sum of numbers in a range\n",
    "\n",
    "def sumrange(start,end):\n",
    "    sum=0\n",
    "    for i in range(start,end+1):\n",
    "        sum=sum+i\n",
    "    print(sum)\n",
    "sumrange(100,200)\n",
    "\n"
   ]
  },
  {
   "cell_type": "code",
   "execution_count": 35,
   "metadata": {},
   "outputs": [
    {
     "data": {
      "text/plain": [
       "3000.0"
      ]
     },
     "execution_count": 35,
     "metadata": {},
     "output_type": "execute_result"
    }
   ],
   "source": [
    "# Function to calculate the average of a given range\n",
    "\n",
    "def averagevalue(start,end):\n",
    "    sum=0\n",
    "    count=0\n",
    "    for i in range(start,end+1):\n",
    "        sum=sum+i   #sum cualtion \n",
    "        count=count+1 #counting number of values\n",
    "    return sum/count\n",
    "\n",
    "averagevalue(1000,5000)\n",
    "        \n",
    "    "
   ]
  },
  {
   "cell_type": "code",
   "execution_count": 51,
   "metadata": {},
   "outputs": [
    {
     "name": "stdout",
     "output_type": "stream",
     "text": [
      "60\n"
     ]
    }
   ],
   "source": [
    "#Function to calculate the factorial of a given number\n",
    "\n",
    "def factorial(n):\n",
    "    for i in range(2,n):\n",
    "        n=n*i\n",
    "    print(n)\n",
    "    \n",
    "factorial(5)"
   ]
  },
  {
   "cell_type": "code",
   "execution_count": 60,
   "metadata": {},
   "outputs": [
    {
     "name": "stdout",
     "output_type": "stream",
     "text": [
      "1920 1924 1928 1932 1936 1940 1944 1948 1952 1956 1960 1964 1968 1972 1976 1980 1984 1988 1992 1996 2000 2004 2008 2012 2016 "
     ]
    }
   ],
   "source": [
    "#Function to generate the leap years in a given time period\n",
    "#(2000,2020) -> 2000 2004 2008 2012 2016 2020\n",
    "\n",
    "def isleapyear(year):# To check if a given year is a leap year\n",
    "    if year % 400==0 or (year % 4==0 and year %100 !=0):\n",
    "        return True\n",
    "    return False\n",
    "\n",
    "def generateleapyears(startyear,endyear): # uses the isleapyear ( )\n",
    "    for year in range(startyear,endyear+1):\n",
    "        if isleapyear(year):\n",
    "            print(year,end=\" \")\n",
    "    return\n",
    "\n",
    "\n",
    "\n",
    "generateleapyears(1919,2019)\n",
    "\n",
    "\n"
   ]
  },
  {
   "cell_type": "code",
   "execution_count": 12,
   "metadata": {},
   "outputs": [
    {
     "name": "stdout",
     "output_type": "stream",
     "text": [
      "1\n",
      "2\n",
      "6\n",
      "24\n",
      "120\n",
      "720\n"
     ]
    }
   ],
   "source": [
    "#factorial\n",
    "def factorial(n):\n",
    "    fact=1\n",
    "    for i in range(1,n+1):\n",
    "        fact=fact*i\n",
    "        print(fact)\n",
    "    \n",
    "factorial(6)"
   ]
  },
  {
   "cell_type": "code",
   "execution_count": null,
   "metadata": {},
   "outputs": [],
   "source": [
    "#calculate number of days in a given time period"
   ]
  },
  {
   "cell_type": "code",
   "execution_count": 69,
   "metadata": {},
   "outputs": [
    {
     "data": {
      "text/plain": [
       "1096"
      ]
     },
     "execution_count": 69,
     "metadata": {},
     "output_type": "execute_result"
    }
   ],
   "source": [
    "# calculate number of days in a given time period using leap year\n",
    "# For every year in the given time period ,if the year is not a leap year--> add 365 to sum. If leap year, add 366 to sum\n",
    "\n",
    "def numberofdays(startyear,endyear):\n",
    "    sum = 0\n",
    "    for year in range(startyear,endyear + 1):\n",
    "        if isleapyear(year):\n",
    "            sum=sum+366\n",
    "        else:\n",
    "            sum=sum+365\n",
    "    return sum\n",
    "\n",
    "numberofdays(2000,2002)"
   ]
  },
  {
   "cell_type": "code",
   "execution_count": 66,
   "metadata": {},
   "outputs": [],
   "source": [
    "#Function to calculate number of hours for a given time period using\n",
    "# numberofhours(11, 1975, 03, 1999) --> 204504 or 205248\n",
    "# numberofhours(5, 2019, 6, 2019) --> 1464\n",
    "\n",
    "\n",
    "def hoursof cover"
   ]
  },
  {
   "cell_type": "code",
   "execution_count": 18,
   "metadata": {},
   "outputs": [
    {
     "name": "stdout",
     "output_type": "stream",
     "text": [
      "1500 not leap year\n",
      "1500 not leap year\n",
      "1500 not leap year\n"
     ]
    }
   ],
   "source": [
    "# Function to generate the leap year in a given time period\n",
    "# 1. Leapyearfunction --> To check if a given year is a leap year\n",
    "# 2.Generateleapyears --> uses the leap year function to select all leap years in \n",
    "\n",
    "def isleapyear(year):\n",
    "    if (year%400==0) or (year%4==0 and year%100!=0):\n",
    "        print(year,end=\" is the leap year\")\n",
    "    else:\n",
    "        print(year,\"not leap year\")\n",
    "          \n",
    "isleapyear(1500)"
   ]
  },
  {
   "cell_type": "code",
   "execution_count": null,
   "metadata": {},
   "outputs": [],
   "source": [
    "##### Find the greatest of 3 numbers\n",
    "\n",
    "n1 = int(input(\"Enter the first number\"))\n",
    "n2 = int(input(\"Enter the second number\"))\n",
    "n3 = int(input(\"Enter the third number\"))\n",
    "\n",
    "if n1 > n2 and n1 > n3:\n",
    "    print(n1, \"is the greatest\")\n",
    "elif n2 > n3:\n",
    "    print(n2, \"is the greatest\")\n",
    "else:\n",
    "    print(n3, \"is the greatest\")"
   ]
  },
  {
   "cell_type": "markdown",
   "metadata": {},
   "source": []
  },
  {
   "cell_type": "code",
   "execution_count": 98,
   "metadata": {},
   "outputs": [
    {
     "name": "stdout",
     "output_type": "stream",
     "text": [
      "enter the first number-383\n",
      "enter the second number-34\n",
      "enter the third number-343\n",
      "-34 is the greatest\n"
     ]
    }
   ],
   "source": [
    "# Find the greatest of 3 numbers\n",
    "\n",
    "n1=int(input(\"enter the first number\"))\n",
    "n2=int(input(\"enter the second number\"))\n",
    "n3=int(input(\"enter the third number\"))\n",
    "\n",
    "if n1>n2 and n1>n3:\n",
    "    print(n1, \"is the greatest\")\n",
    "elif n2>n3:\n",
    "    print(n2,\"is the greatest\")\n",
    "else:\n",
    "    print(n3, \"is the greatest\")"
   ]
  },
  {
   "cell_type": "code",
   "execution_count": null,
   "metadata": {},
   "outputs": [],
   "source": []
  },
  {
   "cell_type": "code",
   "execution_count": 100,
   "metadata": {},
   "outputs": [
    {
     "name": "stdout",
     "output_type": "stream",
     "text": [
      "Not a Leap Year\n"
     ]
    }
   ],
   "source": [
    "# Check if a year is a Leap year\n",
    "year = 1234\n",
    "if year % 400 == 0 or (year % 100 != 0 and year % 4 == 0):\n",
    "    print(\"Leap Year\")\n",
    "else:\n",
    "    print(\"Not a Leap Year\")"
   ]
  },
  {
   "cell_type": "code",
   "execution_count": 96,
   "metadata": {},
   "outputs": [
    {
     "data": {
      "text/plain": [
       "[1, 2, 3, 4, 5, 6]"
      ]
     },
     "execution_count": 96,
     "metadata": {},
     "output_type": "execute_result"
    }
   ],
   "source": [
    "s=\"1 2 3 4 5 6\"\n",
    "li=s.split(\" \")\n",
    "numberlist = []\n",
    "for i in li:\n",
    "    numberlist.append(int(i))\n",
    "numberlist\n",
    "    "
   ]
  },
  {
   "cell_type": "code",
   "execution_count": 74,
   "metadata": {},
   "outputs": [
    {
     "name": "stdout",
     "output_type": "stream",
     "text": [
      "500 502 504 506 508 510 "
     ]
    }
   ],
   "source": [
    "def soons(start,end):\n",
    "    for value in range(start, end+1,2):\n",
    "        print (value,end=\" \")\n",
    "    return\n",
    "soons(500,510)\n",
    "        "
   ]
  },
  {
   "cell_type": "code",
   "execution_count": 70,
   "metadata": {},
   "outputs": [
    {
     "name": "stdout",
     "output_type": "stream",
     "text": [
      "503 505 507 509 511 513 515 517 519 521 523 525 527 529 "
     ]
    }
   ],
   "source": [
    "def alternativenumbers(start,end):\n",
    "    for value in range(start+3,end,2):\n",
    "        print (value,end=\" \")\n",
    "    return\n",
    "alternativenumbers(500,530)"
   ]
  },
  {
   "cell_type": "code",
   "execution_count": null,
   "metadata": {},
   "outputs": [],
   "source": [
    "def string(s):\n",
    "    z=\"\"\n",
    "    for i in s:\n",
    "        if i.isupper():\n",
    "            z=z+i.lower()\n",
    "        else:\n",
    "            z=z+i.upper()\n",
    "        print(z)\n",
    "    \n",
    "s=input()\n",
    "string(s)"
   ]
  },
  {
   "cell_type": "code",
   "execution_count": 139,
   "metadata": {},
   "outputs": [
    {
     "ename": "IndentationError",
     "evalue": "unexpected indent (<ipython-input-139-233f5bf3897c>, line 10)",
     "output_type": "error",
     "traceback": [
      "\u001b[1;36m  File \u001b[1;32m\"<ipython-input-139-233f5bf3897c>\"\u001b[1;36m, line \u001b[1;32m10\u001b[0m\n\u001b[1;33m    print(n3,\"is the greatest value\")\u001b[0m\n\u001b[1;37m    ^\u001b[0m\n\u001b[1;31mIndentationError\u001b[0m\u001b[1;31m:\u001b[0m unexpected indent\n"
     ]
    }
   ],
   "source": [
    "n1=int(input(\"enter first\"))\n",
    "n2=int(input(\"enter the second\"))\n",
    "n3=int(input(\"enter third\"))\n",
    "\n",
    "if n1>n2 and n1>n3:\n",
    "    print(n1, \"the greatest value\")\n",
    "elif n2>n3:\n",
    "    print(n2,\"is the greatest value\")\n",
    "else:23\n",
    "    print(n3,\"is the greatest value\")\n",
    "    \n",
    "\n"
   ]
  },
  {
   "cell_type": "code",
   "execution_count": 111,
   "metadata": {},
   "outputs": [
    {
     "name": "stdout",
     "output_type": "stream",
     "text": [
      "525 524 523 522 521 520 519 518 517 516 515 514 513 512 "
     ]
    }
   ],
   "source": [
    "def alternatevalues(start,end):\n",
    "    for value in range(start,end+1,-1):\n",
    "        print (value,end=\" \")\n",
    "    return\n",
    "\n",
    "alternatevalues(525,510)\n"
   ]
  },
  {
   "cell_type": "code",
   "execution_count": 137,
   "metadata": {},
   "outputs": [
    {
     "name": "stdout",
     "output_type": "stream",
     "text": [
      "1\n",
      "2\n",
      "6\n",
      "24\n",
      "120\n"
     ]
    }
   ],
   "source": [
    "def factorial(s):\n",
    "    fact=1\n",
    "    for i in range(1,s+1):\n",
    "        fact=fact*i\n",
    "        print(fact)\n",
    "\n",
    "factorial(5)"
   ]
  },
  {
   "cell_type": "code",
   "execution_count": 144,
   "metadata": {},
   "outputs": [
    {
     "name": "stdout",
     "output_type": "stream",
     "text": [
      "serfs\n",
      "no\n"
     ]
    }
   ],
   "source": [
    "def palindrom(s):\n",
    "    if s[::-1]==s:\n",
    "        print(\"yes\")\n",
    "    else:\n",
    "        print(\"no\")\n",
    "s=input()\n",
    "palindrom(s)"
   ]
  },
  {
   "cell_type": "code",
   "execution_count": 5,
   "metadata": {},
   "outputs": [
    {
     "name": "stdout",
     "output_type": "stream",
     "text": [
      "15150\n",
      "15150\n",
      "15150\n"
     ]
    }
   ],
   "source": [
    "def sumrange(start,end):\n",
    "    sum=0\n",
    "    for i in range(start,end+1):\n",
    "        sum=sum+i\n",
    "    print(sum)\n",
    "sumrange(100,200)"
   ]
  },
  {
   "cell_type": "markdown",
   "metadata": {},
   "source": [
    "### Perfect Number"
   ]
  },
  {
   "cell_type": "code",
   "execution_count": 3,
   "metadata": {},
   "outputs": [
    {
     "name": "stdout",
     "output_type": "stream",
     "text": [
      "1 2 3 6  no \n"
     ]
    }
   ],
   "source": [
    "def factors(n):\n",
    "    sum=0\n",
    "    for i in range(1,n+1):\n",
    "        if n % i ==0:\n",
    "            print(i, end=\" \")\n",
    "            sum +=i\n",
    "    #print(sum)\n",
    "    if n == sum:\n",
    "        print(\" yes \")\n",
    "    else:\n",
    "        print(\" no \")\n",
    "        \n",
    "        \n",
    "factors(6)"
   ]
  },
  {
   "cell_type": "code",
   "execution_count": 8,
   "metadata": {},
   "outputs": [
    {
     "name": "stdout",
     "output_type": "stream",
     "text": [
      "{'name': 'rama', 'age': 26, 'salary': 4534.2}\n",
      "{'name': 'rama', 'age': 26, 'salary': 343523}\n",
      "{'age': 26, 'salary': 343523}\n"
     ]
    }
   ],
   "source": [
    "person = {'name':'Jack', 'age': 26, 'salary': 4534.2}\n",
    "person[\"name\"] = \"rama\"\n",
    "print(person) \n",
    "person[\"salary\"] = 343523\n",
    "print(person)\n",
    "del(person[\"name\"])\n",
    "print(person)\n",
    "del person\n"
   ]
  },
  {
   "cell_type": "code",
   "execution_count": 17,
   "metadata": {},
   "outputs": [
    {
     "name": "stdout",
     "output_type": "stream",
     "text": [
      "(1, 2, 3, 4, 5)\n",
      "[1, 2, 3, 4, 5]\n",
      "{1, 2, 3, 4, 5}\n",
      "{1: 99, 2: 99, 3: 99, 4: 99, 5: 99}\n"
     ]
    }
   ],
   "source": [
    "num = range(1,6)\n",
    "print(tuple(num))\n",
    "print(list(num))\n",
    "print(set(num))\n",
    "print(dict.fromkeys(num,99))\n"
   ]
  },
  {
   "cell_type": "code",
   "execution_count": 29,
   "metadata": {},
   "outputs": [
    {
     "name": "stdout",
     "output_type": "stream",
     "text": [
      "[10, 9, 8, 7, 6, 5, 4, 3, 2, 1]\n",
      "(1, 3, 5, 7, 9)\n",
      "{1, 3, 5, 7, 9}\n"
     ]
    }
   ],
   "source": [
    "num1 = range(10,0,-1)\n",
    "print(list(num1))\n",
    "num1 = range(1,10,2)\n",
    "print(tuple(num1))\n",
    "print(set(num1))"
   ]
  },
  {
   "cell_type": "code",
   "execution_count": 47,
   "metadata": {},
   "outputs": [
    {
     "name": "stdout",
     "output_type": "stream",
     "text": [
      "I am outside the body of if\n"
     ]
    }
   ],
   "source": [
    "if False:\n",
    "    print(\"I am inside the body of if.\")\n",
    "    print(\"I am also inside the body of if.\")\n",
    "print(\"I am outside the body of if\")\n",
    "\n"
   ]
  },
  {
   "cell_type": "code",
   "execution_count": 92,
   "metadata": {},
   "outputs": [
    {
     "name": "stdout",
     "output_type": "stream",
     "text": [
      "sum of numbers is  5050\n"
     ]
    }
   ],
   "source": [
    "# sum of n numbers\n",
    "\n",
    "n=100\n",
    "\n",
    "sum=0\n",
    "\n",
    "i=1 # intialise counter\n",
    "\n",
    "while i <= n:\n",
    "    sum =sum + i\n",
    "    i = i + 1 #update counter\n",
    "        \n",
    "print(\"sum of numbers is \", sum)"
   ]
  },
  {
   "cell_type": "code",
   "execution_count": 98,
   "metadata": {},
   "outputs": [
    {
     "name": "stdout",
     "output_type": "stream",
     "text": [
      "505\n"
     ]
    }
   ],
   "source": [
    "b=[2,3,345,66,67,22]\n",
    "\n",
    "sum = 0\n",
    "for val in b:\n",
    "    sum = sum+ val\n",
    "print(sum)"
   ]
  },
  {
   "cell_type": "code",
   "execution_count": 105,
   "metadata": {},
   "outputs": [
    {
     "name": "stdout",
     "output_type": "stream",
     "text": [
      "s\n",
      "t\n",
      "the end\n"
     ]
    }
   ],
   "source": [
    "for val in \"string\":\n",
    "    if val == \"r\":\n",
    "        break\n",
    "    print(val)\n",
    "        \n",
    "print(\"the end\")"
   ]
  },
  {
   "cell_type": "code",
   "execution_count": 107,
   "metadata": {},
   "outputs": [
    {
     "name": "stdout",
     "output_type": "stream",
     "text": [
      "s\n",
      "t\n",
      "r\n",
      "n\n",
      "g\n",
      "the end\n"
     ]
    }
   ],
   "source": [
    "for val in \"string\":\n",
    "    if val == \"i\":\n",
    "        continue\n",
    "    print(val)\n",
    "        \n",
    "print(\"the end\")"
   ]
  },
  {
   "cell_type": "code",
   "execution_count": 8,
   "metadata": {},
   "outputs": [
    {
     "name": "stdout",
     "output_type": "stream",
     "text": [
      "my name is first\n",
      "my name is second\n"
     ]
    }
   ],
   "source": [
    "def print_lines():\n",
    "    print(\"my name is first\")\n",
    "    print(\"my name is second\")\n",
    "    \n",
    "    \n",
    "print_lines()\n",
    "    \n",
    "\n"
   ]
  },
  {
   "cell_type": "code",
   "execution_count": 17,
   "metadata": {},
   "outputs": [
    {
     "name": "stdout",
     "output_type": "stream",
     "text": [
      "11\n",
      "11\n",
      "11\n"
     ]
    }
   ],
   "source": [
    "def add_numbers(a,b):\n",
    "    sum = a+b\n",
    "    print(sum)\n",
    "# a=int(input())   \n",
    "# b=int(input())      --> other process\n",
    "# add_numbers(a,b)\n",
    "\n",
    "add_numbers(2,9)"
   ]
  },
  {
   "cell_type": "code",
   "execution_count": 22,
   "metadata": {},
   "outputs": [],
   "source": [
    "def count(n):\n",
    "    n=100\n",
    "    s=0\n",
    "    for i in range(1,n):\n",
    "        s +=i\n",
    "        i +=1\n",
    "        print(s)\n",
    "\n",
    "count(n)       "
   ]
  },
  {
   "cell_type": "code",
   "execution_count": 10,
   "metadata": {},
   "outputs": [
    {
     "data": {
      "text/plain": [
       "720"
      ]
     },
     "execution_count": 10,
     "metadata": {},
     "output_type": "execute_result"
    }
   ],
   "source": [
    "# Recursive function to find the factorial of a function\n",
    "\n",
    "def factorial(n):\n",
    "    \n",
    "        if n==1:\n",
    "            return 1\n",
    "        else:\n",
    "            return(n * factorial(n-1))\n",
    "        \n",
    "num = 6       \n",
    "factorial(num)"
   ]
  },
  {
   "cell_type": "code",
   "execution_count": 24,
   "metadata": {},
   "outputs": [
    {
     "name": "stdout",
     "output_type": "stream",
     "text": [
      "25\n"
     ]
    }
   ],
   "source": [
    "square = lambda x:x ** 2\n",
    "print(square(5))"
   ]
  },
  {
   "cell_type": "code",
   "execution_count": 37,
   "metadata": {},
   "outputs": [
    {
     "name": "stdout",
     "output_type": "stream",
     "text": [
      "3\n",
      "4\n"
     ]
    },
    {
     "ename": "TypeError",
     "evalue": "add() missing 2 required positional arguments: 'a' and 'b'",
     "output_type": "error",
     "traceback": [
      "\u001b[1;31m---------------------------------------------------------------------------\u001b[0m",
      "\u001b[1;31mTypeError\u001b[0m                                 Traceback (most recent call last)",
      "\u001b[1;32m<ipython-input-37-456540c99c5e>\u001b[0m in \u001b[0;36m<module>\u001b[1;34m\u001b[0m\n\u001b[0;32m      4\u001b[0m     \u001b[0mprint\u001b[0m\u001b[1;33m(\u001b[0m\u001b[0ma\u001b[0m\u001b[1;33m+\u001b[0m\u001b[0mb\u001b[0m\u001b[1;33m)\u001b[0m\u001b[1;33m\u001b[0m\u001b[1;33m\u001b[0m\u001b[0m\n\u001b[0;32m      5\u001b[0m \u001b[1;33m\u001b[0m\u001b[0m\n\u001b[1;32m----> 6\u001b[1;33m \u001b[0madd\u001b[0m\u001b[1;33m(\u001b[0m\u001b[1;33m)\u001b[0m\u001b[1;33m\u001b[0m\u001b[1;33m\u001b[0m\u001b[0m\n\u001b[0m",
      "\u001b[1;31mTypeError\u001b[0m: add() missing 2 required positional arguments: 'a' and 'b'"
     ]
    }
   ],
   "source": [
    "a = input()\n",
    "b = input()\n",
    "def add(a,b):\n",
    "    print(a+b)\n",
    "    \n",
    "add()"
   ]
  },
  {
   "cell_type": "code",
   "execution_count": 38,
   "metadata": {},
   "outputs": [
    {
     "name": "stdout",
     "output_type": "stream",
     "text": [
      "the  value of pi is 3.141592653589793\n"
     ]
    }
   ],
   "source": [
    "from math import pi\n",
    "print(\"the  value of pi is\",  pi)"
   ]
  },
  {
   "cell_type": "code",
   "execution_count": 45,
   "metadata": {},
   "outputs": [
    {
     "name": "stdout",
     "output_type": "stream",
     "text": [
      "Unique words: 7\n"
     ]
    }
   ],
   "source": [
    "with open(\"test.txt\", \"r\") as file:\n",
    "    lines = file.read().splitlines()\n",
    "\n",
    "    uniques = set()\n",
    "    for line in lines:\n",
    "        uniques |= set(line.split())\n",
    "\n",
    "    print(f\"Unique words: {len(uniques)}\")"
   ]
  },
  {
   "cell_type": "code",
   "execution_count": null,
   "metadata": {},
   "outputs": [],
   "source": []
  }
 ],
 "metadata": {
  "kernelspec": {
   "display_name": "Python 3",
   "language": "python",
   "name": "python3"
  },
  "language_info": {
   "codemirror_mode": {
    "name": "ipython",
    "version": 3
   },
   "file_extension": ".py",
   "mimetype": "text/x-python",
   "name": "python",
   "nbconvert_exporter": "python",
   "pygments_lexer": "ipython3",
   "version": "3.7.3"
  }
 },
 "nbformat": 4,
 "nbformat_minor": 2
}
