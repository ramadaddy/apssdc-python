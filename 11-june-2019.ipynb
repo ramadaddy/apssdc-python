{
 "cells": [
  {
   "cell_type": "code",
   "execution_count": 1,
   "metadata": {},
   "outputs": [
    {
     "name": "stdout",
     "output_type": "stream",
     "text": [
      "Hello\n"
     ]
    }
   ],
   "source": [
    "print(\"Hello\")"
   ]
  },
  {
   "cell_type": "code",
   "execution_count": 2,
   "metadata": {},
   "outputs": [
    {
     "data": {
      "text/plain": [
       "30"
      ]
     },
     "execution_count": 2,
     "metadata": {},
     "output_type": "execute_result"
    }
   ],
   "source": [
    "10+20"
   ]
  },
  {
   "cell_type": "code",
   "execution_count": 3,
   "metadata": {},
   "outputs": [
    {
     "name": "stdout",
     "output_type": "stream",
     "text": [
      "30\n"
     ]
    }
   ],
   "source": [
    "a=10+20\n",
    "print(a)"
   ]
  },
  {
   "cell_type": "code",
   "execution_count": 4,
   "metadata": {},
   "outputs": [],
   "source": [
    "b=a+30"
   ]
  },
  {
   "cell_type": "code",
   "execution_count": 5,
   "metadata": {},
   "outputs": [
    {
     "name": "stdout",
     "output_type": "stream",
     "text": [
      "60\n"
     ]
    }
   ],
   "source": [
    "print(b)"
   ]
  },
  {
   "cell_type": "code",
   "execution_count": 7,
   "metadata": {},
   "outputs": [
    {
     "name": "stdout",
     "output_type": "stream",
     "text": [
      "Enter one value10\n",
      "Enter Second value20\n"
     ]
    }
   ],
   "source": [
    "a=int(input(\"Enter one value\"))\n",
    "b=int(input(\"Enter Second value\"))"
   ]
  },
  {
   "cell_type": "markdown",
   "metadata": {},
   "source": []
  },
  {
   "cell_type": "code",
   "execution_count": 8,
   "metadata": {},
   "outputs": [
    {
     "name": "stdout",
     "output_type": "stream",
     "text": [
      "10 20\n"
     ]
    }
   ],
   "source": [
    "print(a,b)"
   ]
  },
  {
   "cell_type": "markdown",
   "metadata": {},
   "source": [
    "###for loop in python\n",
    "\n",
    "[101,210]\n",
    "\n",
    "for number in range(101,211)\n",
    "    print number\n",
    "    \n",
    "o/p :-\n"
   ]
  },
  {
   "cell_type": "code",
   "execution_count": 12,
   "metadata": {},
   "outputs": [
    {
     "name": "stdout",
     "output_type": "stream",
     "text": [
      "500 504 508 512 516 520 524 "
     ]
    }
   ],
   "source": [
    "### Function to print the alternate values in a range [500,550]  in the same line\n",
    "### [500,550] -> 500 502 504 .......... 550\n",
    "### (500,550) -> 501 503 505 .......... 549\n",
    "### range (500,550) -> 500 501 502 ..... 549\n",
    "### All set based functions in python have start value inclusive and last value is exclusive\n",
    "\n",
    "def alternatevalues(start,end):\n",
    "    for value in range(start,end+1,4):\n",
    "        print (value,end=\" \")\n",
    "    return\n",
    "\n",
    "alternatevalues(500,525)\n"
   ]
  },
  {
   "cell_type": "code",
   "execution_count": 18,
   "metadata": {},
   "outputs": [
    {
     "name": "stdout",
     "output_type": "stream",
     "text": [
      "10 9 8 7 6 5 4 3 2 1 "
     ]
    }
   ],
   "source": [
    "# Function to print reverse of given range in the same line\n",
    "\n",
    "def reverserange(start,end):\n",
    "    for value in range (end,start-1,-1):\n",
    "        print (value,end=\" \")\n",
    "    return\n",
    "    \n",
    "reverserange(1,10)"
   ]
  },
  {
   "cell_type": "code",
   "execution_count": null,
   "metadata": {},
   "outputs": [],
   "source": [
    "# Function to print the odd numbers in reverse of  given range in the same line\n",
    "\n",
    "def reverseoddnumbers(start,end):\n",
    "    for vlues in range(end,end-1,1):\n",
    "        print (value,end=\" \")\n",
    "    return\n",
    "    \n",
    "        "
   ]
  },
  {
   "cell_type": "code",
   "execution_count": 25,
   "metadata": {},
   "outputs": [
    {
     "name": "stdout",
     "output_type": "stream",
     "text": [
      "210\n"
     ]
    }
   ],
   "source": [
    "#Function to calculate the sum of numbers in a range\n",
    "\n",
    "def sumofnumbers(start,end):\n",
    "    s = 0\n",
    "    for value in range(start,end+1,1):\n",
    "        s = s + value\n",
    "    print(s)\n",
    "    return\n",
    "\n",
    "sumofnumbers(1,20)"
   ]
  },
  {
   "cell_type": "code",
   "execution_count": 45,
   "metadata": {},
   "outputs": [
    {
     "name": "stdout",
     "output_type": "stream",
     "text": [
      "5\n",
      "3\n",
      "1\n"
     ]
    }
   ],
   "source": [
    "#Function to print the odd numbers in reverse order in a range\n",
    "\n",
    "def reverseodd(start,end):\n",
    "    for i in range(end,start-1,-1):\n",
    "        if i % 2 != 0:\n",
    "            print(i)\n",
    "    return\n",
    "\n",
    "reverseodd(1,5)\n"
   ]
  },
  {
   "cell_type": "code",
   "execution_count": 44,
   "metadata": {},
   "outputs": [
    {
     "data": {
      "text/plain": [
       "15050.0"
      ]
     },
     "execution_count": 44,
     "metadata": {},
     "output_type": "execute_result"
    }
   ],
   "source": [
    "#Function to calculate the sum of numbers in a range\n",
    "\n",
    "def sumrange(start,end):\n",
    "    sum=0\n",
    "    for i in range(start,end+1):\n",
    "        sum=sum+i\n",
    "    return sum\n",
    "\n",
    "\n",
    "sumrange(100,200)\n",
    "\n",
    "200*201/2-(100*101/2)"
   ]
  },
  {
   "cell_type": "code",
   "execution_count": 35,
   "metadata": {},
   "outputs": [
    {
     "data": {
      "text/plain": [
       "3000.0"
      ]
     },
     "execution_count": 35,
     "metadata": {},
     "output_type": "execute_result"
    }
   ],
   "source": [
    "# Function to calculate the average of a given range\n",
    "\n",
    "def averagevalue(start,end):\n",
    "    sum=0\n",
    "    count=0\n",
    "    for i in range(start,end+1):\n",
    "        sum=sum+i   #sum cualtion \n",
    "        count=count+1 #counting number of values\n",
    "    return sum/count\n",
    "\n",
    "averagevalue(1000,5000)\n",
    "        \n",
    "    "
   ]
  },
  {
   "cell_type": "code",
   "execution_count": 51,
   "metadata": {},
   "outputs": [
    {
     "name": "stdout",
     "output_type": "stream",
     "text": [
      "60\n"
     ]
    }
   ],
   "source": [
    "#Function to calculate the factorial of a given number\n",
    "\n",
    "def factorial(n):\n",
    "    for i in range(2,n):\n",
    "        n=n*i\n",
    "    print(n)\n",
    "    \n",
    "factorial(5)"
   ]
  },
  {
   "cell_type": "code",
   "execution_count": 60,
   "metadata": {},
   "outputs": [
    {
     "name": "stdout",
     "output_type": "stream",
     "text": [
      "1920 1924 1928 1932 1936 1940 1944 1948 1952 1956 1960 1964 1968 1972 1976 1980 1984 1988 1992 1996 2000 2004 2008 2012 2016 "
     ]
    }
   ],
   "source": [
    "#Function to generate the leap years in a given time period\n",
    "#(2000,2020) -> 2000 2004 2008 2012 2016 2020\n",
    "\n",
    "def isleapyear(year):# To check if a given year is a leap year\n",
    "    if year % 400==0 or (year % 4==0 and year %100 !=0):\n",
    "        return True\n",
    "    return False\n",
    "\n",
    "def generateleapyears(startyear,endyear): # uses the isleapyear ( )\n",
    "    for year in range(startyear,endyear+1):\n",
    "        if isleapyear(year):\n",
    "            print(year,end=\" \")\n",
    "    return\n",
    "\n",
    "\n",
    "\n",
    "generateleapyears(1919,2019)\n",
    "\n",
    "\n"
   ]
  },
  {
   "cell_type": "code",
   "execution_count": 55,
   "metadata": {},
   "outputs": [
    {
     "name": "stdout",
     "output_type": "stream",
     "text": [
      "390625\n"
     ]
    }
   ],
   "source": [
    "#factorial\n",
    "def factorial(n):\n",
    "    for i in range(2,n):\n",
    "        n=n*n\n",
    "    print(n)\n",
    "    \n",
    "factorial(5)"
   ]
  },
  {
   "cell_type": "code",
   "execution_count": null,
   "metadata": {},
   "outputs": [],
   "source": [
    "#calculate number of days in a given time period"
   ]
  },
  {
   "cell_type": "code",
   "execution_count": 69,
   "metadata": {},
   "outputs": [
    {
     "data": {
      "text/plain": [
       "1096"
      ]
     },
     "execution_count": 69,
     "metadata": {},
     "output_type": "execute_result"
    }
   ],
   "source": [
    "# calculate number of days in a given time period using leap year\n",
    "# For every year in the given time period ,if the year is not a leap year--> add 365 to sum. If leap year, add 366 to sum\n",
    "\n",
    "def numberofdays(startyear,endyear):\n",
    "    sum = 0\n",
    "    for year in range(startyear,endyear + 1):\n",
    "        if isleapyear(year):\n",
    "            sum=sum+366\n",
    "        else:\n",
    "            sum=sum+365\n",
    "    return sum\n",
    "\n",
    "numberofdays(2000,2002)"
   ]
  },
  {
   "cell_type": "code",
   "execution_count": 66,
   "metadata": {},
   "outputs": [],
   "source": [
    "#Function to calculate number of hours for a given time period using\n",
    "# numberofhours(11, 1975, 03, 1999) --> 204504 or 205248\n",
    "# numberofhours(5, 2019, 6, 2019) --> 1464\n",
    "\n",
    "\n",
    "def hoursof cover"
   ]
  },
  {
   "cell_type": "code",
   "execution_count": 70,
   "metadata": {},
   "outputs": [
    {
     "ename": "SyntaxError",
     "evalue": "invalid syntax (<ipython-input-70-4f3ae436e244>, line 6)",
     "output_type": "error",
     "traceback": [
      "\u001b[1;36m  File \u001b[1;32m\"<ipython-input-70-4f3ae436e244>\"\u001b[1;36m, line \u001b[1;32m6\u001b[0m\n\u001b[1;33m    if year%400==0 or year%4==0 and year%!=0:\u001b[0m\n\u001b[1;37m                                          ^\u001b[0m\n\u001b[1;31mSyntaxError\u001b[0m\u001b[1;31m:\u001b[0m invalid syntax\n"
     ]
    }
   ],
   "source": [
    "# Function to generate the leap year in a given time period\n",
    "# 1. Leapyearfunction --> To check if a given year is a leap year\n",
    "# 2.Generateleapyears --> uses the leap year function to select all leap years in \n",
    "\n",
    "def isleapyear(year):\n",
    "    if year%400==0 or year%4==0 and year%!=0:\n",
    "        print(year,end=\" \")\n",
    "        \n",
    "def isleapyear(year)"
   ]
  },
  {
   "cell_type": "code",
   "execution_count": null,
   "metadata": {},
   "outputs": [],
   "source": [
    "##### Find the greatest of 3 numbers\n",
    "\n",
    "n1 = int(input(\"Enter the first number\"))\n",
    "n2 = int(input(\"Enter the second number\"))\n",
    "n3 = int(input(\"Enter the third number\"))\n",
    "\n",
    "if n1 > n2 and n1 > n3:\n",
    "    print(n1, \"is the greatest\")\n",
    "elif n2 > n3:\n",
    "    print(n2, \"is the greatest\")\n",
    "else:\n",
    "    print(n3, \"is the greatest\")"
   ]
  },
  {
   "cell_type": "markdown",
   "metadata": {},
   "source": []
  },
  {
   "cell_type": "code",
   "execution_count": null,
   "metadata": {},
   "outputs": [],
   "source": [
    "# Find the greatest of 3 numbers\n",
    "\n",
    "n1=int(input(\"enter the first number\"))\n",
    "n2=int(input(\"enter the second number\"))\n",
    "n3=int(input(\"enter the third number\"))\n",
    "\n",
    "if n1>n2 and n1>n3:\n",
    "    print(n1, \"is the greatest\")\n",
    "elif n2>n3:\n",
    "    print(n2,\"is the greatest\")\n",
    "else:\n",
    "    print(n3, \"is the greatest\")"
   ]
  },
  {
   "cell_type": "code",
   "execution_count": null,
   "metadata": {},
   "outputs": [],
   "source": []
  },
  {
   "cell_type": "code",
   "execution_count": null,
   "metadata": {},
   "outputs": [],
   "source": [
    "# Check if a year is a Leap year\n",
    "year = 1234\n",
    "if year % 400 == 0 or (year % 100 != 0 and year % 4 == 0):\n",
    "    print(\"Leap Year\")\n",
    "else:\n",
    "    print(\"Not a Leap Year\")"
   ]
  },
  {
   "cell_type": "code",
   "execution_count": 6,
   "metadata": {},
   "outputs": [
    {
     "data": {
      "text/plain": [
       "[1, 2, 3, 4, 5, 6]"
      ]
     },
     "execution_count": 6,
     "metadata": {},
     "output_type": "execute_result"
    }
   ],
   "source": [
    "s=\"1,2,3,4,5,6\"\n",
    "li=s.split(\",\")\n",
    "numberlist = []\n",
    "for i in li:\n",
    "    numberlist.append(int(i))\n",
    "numberlist\n",
    "    "
   ]
  },
  {
   "cell_type": "code",
   "execution_count": null,
   "metadata": {},
   "outputs": [],
   "source": []
  }
 ],
 "metadata": {
  "kernelspec": {
   "display_name": "Python 3",
   "language": "python",
   "name": "python3"
  },
  "language_info": {
   "codemirror_mode": {
    "name": "ipython",
    "version": 3
   },
   "file_extension": ".py",
   "mimetype": "text/x-python",
   "name": "python",
   "nbconvert_exporter": "python",
   "pygments_lexer": "ipython3",
   "version": "3.7.3"
  }
 },
 "nbformat": 4,
 "nbformat_minor": 2
}
