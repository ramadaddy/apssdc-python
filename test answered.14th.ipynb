{
 "cells": [
  {
   "cell_type": "code",
   "execution_count": null,
   "metadata": {},
   "outputs": [],
   "source": []
  },
  {
   "cell_type": "code",
   "execution_count": null,
   "metadata": {},
   "outputs": [],
   "source": []
  },
  {
   "cell_type": "code",
   "execution_count": 3,
   "metadata": {},
   "outputs": [
    {
     "name": "stdout",
     "output_type": "stream",
     "text": [
      "3\n"
     ]
    },
    {
     "data": {
      "text/plain": [
       "14"
      ]
     },
     "execution_count": 3,
     "metadata": {},
     "output_type": "execute_result"
    }
   ],
   "source": [
    "n= int(input())\n",
    "\n",
    "def squares(n):\n",
    "    sum = 0\n",
    "    for i in range(1,n+1):\n",
    "        sum = sum + i**2\n",
    "    return sum\n",
    "squares(n)\n"
   ]
  },
  {
   "cell_type": "code",
   "execution_count": null,
   "metadata": {},
   "outputs": [],
   "source": [
    "# n = int(input())\n",
    "s = input()\n",
    "# \"1 2 3 4 5\"\n",
    "li = []\n",
    "\n",
    "for i in s.split():\n",
    "    li.append(abs(int(i)))\n",
    "def closestzero(li):    \n",
    " # -1 2 5 -> -1\n",
    " # 1\n",
    "min(li)"
   ]
  },
  {
   "cell_type": "code",
   "execution_count": null,
   "metadata": {},
   "outputs": [],
   "source": [
    "# n = int(input())\n",
    "s = input()\n",
    "# \"1 2 3 4 5\"\n",
    "li = []\n",
    "\n",
    "for i in s.split():\n",
    "    li.append(abs(int(i))\n",
    "            \n",
    "def closestzero(li):\n",
    "        # separate all numbers less than zero\n",
    "        # all numbers greater = zero , get the \n",
    "        # -1 2 5 -10 -20\n",
    "        # -1 -10 -20 -> -1\n",
    "        # 2 5 -> 2\n",
    "        # -1 1 -> count from 0 to -1, 2\n",
    "        n1 = []\n",
    "        for i in li:\n",
    "              if i < 0:\n",
    "                n1.append(i)\n",
    "        p1 = []\n",
    "        for i in li:\n",
    "              if i >= 0:\n",
    "                  p1.append(i)\n",
    "        nc = max(n1)\n",
    "        pc = min(p1)\n",
    "        if pc == 0:\n",
    "              return pc\n",
    "        elif abs(nc) == pc:\n",
    "              return pc\n",
    "        elif abs(nc) < pc:\n",
    "              return abs(nc)\n",
    "        else:\n",
    "              return pc\n",
    "closestzero(li)\n",
    "              "
   ]
  },
  {
   "cell_type": "code",
   "execution_count": null,
   "metadata": {},
   "outputs": [],
   "source": [
    "# function\n",
    "n = int(input())\n",
    "s = input()\n",
    "s = s.split()\n",
    "li = []\n",
    "for i in s:\n",
    "    li.append(abs(int(i)))\n",
    "    \n",
    "min(li)\n",
    "    "
   ]
  },
  {
   "cell_type": "code",
   "execution_count": 1,
   "metadata": {},
   "outputs": [
    {
     "ename": "SyntaxError",
     "evalue": "unexpected EOF while parsing (<ipython-input-1-68cd77635cfc>, line 8)",
     "output_type": "error",
     "traceback": [
      "\u001b[1;36m  File \u001b[1;32m\"<ipython-input-1-68cd77635cfc>\"\u001b[1;36m, line \u001b[1;32m8\u001b[0m\n\u001b[1;33m    for i in range(0,max(li)):\u001b[0m\n\u001b[1;37m                              ^\u001b[0m\n\u001b[1;31mSyntaxError\u001b[0m\u001b[1;31m:\u001b[0m unexpected EOF while parsing\n"
     ]
    }
   ],
   "source": [
    "n = int(input())\n",
    "s = input()\n",
    "s = s.split()\n",
    "li = []\n",
    "for i in s:\n",
    "    li.append(abs(int(i)))\n",
    "\n",
    "for i in range(0,max(li)):\n"
   ]
  },
  {
   "cell_type": "code",
   "execution_count": null,
   "metadata": {},
   "outputs": [],
   "source": []
  },
  {
   "cell_type": "code",
   "execution_count": null,
   "metadata": {},
   "outputs": [],
   "source": []
  },
  {
   "cell_type": "code",
   "execution_count": null,
   "metadata": {},
   "outputs": [],
   "source": []
  }
 ],
 "metadata": {
  "kernelspec": {
   "display_name": "Python 3",
   "language": "python",
   "name": "python3"
  },
  "language_info": {
   "codemirror_mode": {
    "name": "ipython",
    "version": 3
   },
   "file_extension": ".py",
   "mimetype": "text/x-python",
   "name": "python",
   "nbconvert_exporter": "python",
   "pygments_lexer": "ipython3",
   "version": "3.7.3"
  }
 },
 "nbformat": 4,
 "nbformat_minor": 2
}
